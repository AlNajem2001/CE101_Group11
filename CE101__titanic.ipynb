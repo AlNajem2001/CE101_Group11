{
  "nbformat": 4,
  "nbformat_minor": 0,
  "metadata": {
    "colab": {
      "name": "CE101 _titanic",
      "provenance": [],
      "collapsed_sections": [],
      "authorship_tag": "ABX9TyObZZOk1qpQ5ERtAlEvDEYA",
      "include_colab_link": true
    },
    "kernelspec": {
      "name": "python3",
      "display_name": "Python 3"
    }
  },
  "cells": [
    {
      "cell_type": "markdown",
      "metadata": {
        "id": "view-in-github",
        "colab_type": "text"
      },
      "source": [
        "<a href=\"https://colab.research.google.com/github/CharlotteWetton/CE101_Group11/blob/main/CE101__titanic.ipynb\" target=\"_parent\"><img src=\"https://colab.research.google.com/assets/colab-badge.svg\" alt=\"Open In Colab\"/></a>"
      ]
    },
    {
      "cell_type": "code",
      "metadata": {
        "id": "-qt8FtLMna0D"
      },
      "source": [
        "import numpy as np\r\n",
        "import pandas as pd\r\n",
        "import matplotlib.pyplot as plt\r\n",
        "%matplotlib inline\r\n"
      ],
      "execution_count": 5,
      "outputs": []
    },
    {
      "cell_type": "code",
      "metadata": {
        "id": "bxW7ZkavlITI",
        "colab": {
          "base_uri": "https://localhost:8080/"
        },
        "outputId": "03a2198f-da50-4177-c842-ca0e0dadd6e5"
      },
      "source": [
        "train_data = pd.read_csv(\"/content/train.csv\")\r\n",
        "test_data = pd.read_csv(\"/content/test.csv\")\r\n",
        "print(train_data.head())\r\n"
      ],
      "execution_count": 6,
      "outputs": [
        {
          "output_type": "stream",
          "text": [
            "   PassengerId  Survived  Pclass  ...     Fare Cabin  Embarked\n",
            "0            1         0       3  ...   7.2500   NaN         S\n",
            "1            2         1       1  ...  71.2833   C85         C\n",
            "2            3         1       3  ...   7.9250   NaN         S\n",
            "3            4         1       1  ...  53.1000  C123         S\n",
            "4            5         0       3  ...   8.0500   NaN         S\n",
            "\n",
            "[5 rows x 12 columns]\n"
          ],
          "name": "stdout"
        }
      ]
    },
    {
      "cell_type": "code",
      "metadata": {
        "id": "5XcINFGQlb-N",
        "colab": {
          "base_uri": "https://localhost:8080/"
        },
        "outputId": "61315c98-6d0f-4c3d-b1e3-10b72c11f54a"
      },
      "source": [
        "print(\"Shape of train_data:\", train_data.shape)\r\n",
        "print(train_data.columns.values)"
      ],
      "execution_count": 7,
      "outputs": [
        {
          "output_type": "stream",
          "text": [
            "Shape of train_data: (891, 12)\n",
            "['PassengerId' 'Survived' 'Pclass' 'Name' 'Sex' 'Age' 'SibSp' 'Parch'\n",
            " 'Ticket' 'Fare' 'Cabin' 'Embarked']\n"
          ],
          "name": "stdout"
        }
      ]
    },
    {
      "cell_type": "code",
      "metadata": {
        "id": "Pg7UnP66CJK5",
        "colab": {
          "base_uri": "https://localhost:8080/"
        },
        "outputId": "b9d94ff0-a0e4-42f5-8140-ec3c4db25b7a"
      },
      "source": [
        "print(test_data.head())"
      ],
      "execution_count": 8,
      "outputs": [
        {
          "output_type": "stream",
          "text": [
            "   PassengerId  Pclass  ... Cabin Embarked\n",
            "0          892       3  ...   NaN        Q\n",
            "1          893       3  ...   NaN        S\n",
            "2          894       2  ...   NaN        Q\n",
            "3          895       3  ...   NaN        S\n",
            "4          896       3  ...   NaN        S\n",
            "\n",
            "[5 rows x 11 columns]\n"
          ],
          "name": "stdout"
        }
      ]
    },
    {
      "cell_type": "code",
      "metadata": {
        "id": "WjD-YaeLC8WI",
        "colab": {
          "base_uri": "https://localhost:8080/"
        },
        "outputId": "6f80218d-e141-4f4b-8b92-94335f18ec8d"
      },
      "source": [
        "print(\"Shape of test_data:\", test_data.shape)\r\n",
        "print(test_data.columns.values)"
      ],
      "execution_count": 9,
      "outputs": [
        {
          "output_type": "stream",
          "text": [
            "Shape of test_data: (418, 11)\n",
            "['PassengerId' 'Pclass' 'Name' 'Sex' 'Age' 'SibSp' 'Parch' 'Ticket' 'Fare'\n",
            " 'Cabin' 'Embarked']\n"
          ],
          "name": "stdout"
        }
      ]
    },
    {
      "cell_type": "code",
      "metadata": {
        "id": "K-hvFaZwDa1h",
        "colab": {
          "base_uri": "https://localhost:8080/"
        },
        "outputId": "63400f30-22d4-4807-f7f2-62a7a5fd5328"
      },
      "source": [
        "combine = [train_data, test_data]\r\n",
        "print(\"Length of combined_data:\", len(combine))"
      ],
      "execution_count": 10,
      "outputs": [
        {
          "output_type": "stream",
          "text": [
            "Length of combined_data: 2\n"
          ],
          "name": "stdout"
        }
      ]
    },
    {
      "cell_type": "code",
      "metadata": {
        "id": "Y80J71VFEA2y",
        "colab": {
          "base_uri": "https://localhost:8080/"
        },
        "outputId": "ad6f9802-7f00-469a-d8b5-a6d348a1af84"
      },
      "source": [
        "print(train_data.info())"
      ],
      "execution_count": 11,
      "outputs": [
        {
          "output_type": "stream",
          "text": [
            "<class 'pandas.core.frame.DataFrame'>\n",
            "RangeIndex: 891 entries, 0 to 890\n",
            "Data columns (total 12 columns):\n",
            " #   Column       Non-Null Count  Dtype  \n",
            "---  ------       --------------  -----  \n",
            " 0   PassengerId  891 non-null    int64  \n",
            " 1   Survived     891 non-null    int64  \n",
            " 2   Pclass       891 non-null    int64  \n",
            " 3   Name         891 non-null    object \n",
            " 4   Sex          891 non-null    object \n",
            " 5   Age          714 non-null    float64\n",
            " 6   SibSp        891 non-null    int64  \n",
            " 7   Parch        891 non-null    int64  \n",
            " 8   Ticket       891 non-null    object \n",
            " 9   Fare         891 non-null    float64\n",
            " 10  Cabin        204 non-null    object \n",
            " 11  Embarked     889 non-null    object \n",
            "dtypes: float64(2), int64(5), object(5)\n",
            "memory usage: 83.7+ KB\n",
            "None\n"
          ],
          "name": "stdout"
        }
      ]
    },
    {
      "cell_type": "code",
      "metadata": {
        "id": "XKrFRnASEH8k",
        "colab": {
          "base_uri": "https://localhost:8080/"
        },
        "outputId": "70af800d-f495-4f70-a023-713b357af9af"
      },
      "source": [
        "print(test_data.info())\r\n"
      ],
      "execution_count": 12,
      "outputs": [
        {
          "output_type": "stream",
          "text": [
            "<class 'pandas.core.frame.DataFrame'>\n",
            "RangeIndex: 418 entries, 0 to 417\n",
            "Data columns (total 11 columns):\n",
            " #   Column       Non-Null Count  Dtype  \n",
            "---  ------       --------------  -----  \n",
            " 0   PassengerId  418 non-null    int64  \n",
            " 1   Pclass       418 non-null    int64  \n",
            " 2   Name         418 non-null    object \n",
            " 3   Sex          418 non-null    object \n",
            " 4   Age          332 non-null    float64\n",
            " 5   SibSp        418 non-null    int64  \n",
            " 6   Parch        418 non-null    int64  \n",
            " 7   Ticket       418 non-null    object \n",
            " 8   Fare         417 non-null    float64\n",
            " 9   Cabin        91 non-null     object \n",
            " 10  Embarked     418 non-null    object \n",
            "dtypes: float64(2), int64(4), object(5)\n",
            "memory usage: 36.0+ KB\n",
            "None\n"
          ],
          "name": "stdout"
        }
      ]
    },
    {
      "cell_type": "markdown",
      "metadata": {
        "id": "4iAXgPRSEnUb"
      },
      "source": [
        "Data preprocessing"
      ]
    },
    {
      "cell_type": "code",
      "metadata": {
        "id": "fXgJsCbTEq_9",
        "colab": {
          "base_uri": "https://localhost:8080/"
        },
        "outputId": "814b8126-1b1f-4586-f282-67071fb32c9a"
      },
      "source": [
        "#Missing values in trained data\r\n",
        "print(train_data.isnull().sum())"
      ],
      "execution_count": 13,
      "outputs": [
        {
          "output_type": "stream",
          "text": [
            "PassengerId      0\n",
            "Survived         0\n",
            "Pclass           0\n",
            "Name             0\n",
            "Sex              0\n",
            "Age            177\n",
            "SibSp            0\n",
            "Parch            0\n",
            "Ticket           0\n",
            "Fare             0\n",
            "Cabin          687\n",
            "Embarked         2\n",
            "dtype: int64\n"
          ],
          "name": "stdout"
        }
      ]
    },
    {
      "cell_type": "code",
      "metadata": {
        "id": "QAffVTaIE6p0"
      },
      "source": [
        "#functin to calc percentage of missing values in each column\r\n",
        "def missing_percent(df):\r\n",
        "  total = df.isnull().sum().sort_values(ascending=False)\r\n",
        "  percentage = round(total*100/len(df),2)\r\n",
        "  return pd.concat([total,percentage], axis=1, keys=[\"Total\", \"Percentage\"])\r\n",
        "\r\n"
      ],
      "execution_count": 14,
      "outputs": []
    },
    {
      "cell_type": "code",
      "metadata": {
        "id": "tY5A3Zhz6fpU",
        "colab": {
          "base_uri": "https://localhost:8080/"
        },
        "outputId": "0f8481b1-1fad-428d-8c8f-1f2f8be8ab6a"
      },
      "source": [
        "print(missing_percent(train_data))"
      ],
      "execution_count": 15,
      "outputs": [
        {
          "output_type": "stream",
          "text": [
            "             Total  Percentage\n",
            "Cabin          687       77.10\n",
            "Age            177       19.87\n",
            "Embarked         2        0.22\n",
            "Fare             0        0.00\n",
            "Ticket           0        0.00\n",
            "Parch            0        0.00\n",
            "SibSp            0        0.00\n",
            "Sex              0        0.00\n",
            "Name             0        0.00\n",
            "Pclass           0        0.00\n",
            "Survived         0        0.00\n",
            "PassengerId      0        0.00\n"
          ],
          "name": "stdout"
        }
      ]
    },
    {
      "cell_type": "code",
      "metadata": {
        "id": "2dSguhsx7o-p"
      },
      "source": [
        "def impute_age(cols):\r\n",
        "    Age=cols[0]\r\n",
        "    Pclass=cols[1]\r\n",
        "    if pd.isnull(Age):\r\n",
        "        if Pclass==1:\r\n",
        "            return 37\r\n",
        "        elif Pclass==2:\r\n",
        "            return 29\r\n",
        "        else: \r\n",
        "            return 24\r\n",
        "    else:\r\n",
        "        return Age"
      ],
      "execution_count": 16,
      "outputs": []
    },
    {
      "cell_type": "code",
      "metadata": {
        "id": "ESyyMgdB8SEq"
      },
      "source": [
        ""
      ],
      "execution_count": 16,
      "outputs": []
    }
  ]
}